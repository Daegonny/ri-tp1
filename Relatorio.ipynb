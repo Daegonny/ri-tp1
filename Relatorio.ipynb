{
 "cells": [
  {
   "cell_type": "markdown",
   "metadata": {},
   "source": [
    "# Trabalho Prático: Implementação de um Coletor Web\n",
    "\n",
    "Integrantes: Guilherme Botelho\n",
    "<p>&nbsp;&nbsp;&nbsp;&nbsp;&nbsp;&nbsp;&nbsp;&nbsp;&nbsp;&nbsp;&nbsp;&nbsp;&nbsp;Ígor Chagas</p>\n",
    "<p>&nbsp;&nbsp;&nbsp;&nbsp;&nbsp;&nbsp;&nbsp;&nbsp;&nbsp;&nbsp;&nbsp;&nbsp;&nbsp;Lucas Corrêa</p>\n",
    "\n",
    "Orientador: Daniel Hasan Dalip"
   ]
  },
  {
   "cell_type": "markdown",
   "metadata": {},
   "source": [
    "## Objetivo\n",
    "\n",
    "O projeto proposto pelo professor tem como base a implementação de um coletor simples para Web, com o objetivo de estudar e aprender sua arquitetura. O coletor tem que obedecer, obrigatoriamente, os protocolos de exclusão de robôs:\n",
    "- Critérios pertencentes no robots.txt;\n",
    "- Critérios \"noindex\" e \"nofollow\" das metatags de cada html extraído;\n",
    "- Obedecer o prazo de, no mínimo, 30 segundos entre requisições em um mesmo servidor;\n",
    "\n",
    "Os parâmetros utilizados no trabalho, foram:\n",
    "- Número máximo de páginas: 50.000 páginas\n",
    "- Profundidade por domínio: 6  páginas\n",
    "- Número de threads utilizado: "
   ]
  },
  {
   "cell_type": "markdown",
   "metadata": {},
   "source": [
    "## Sobre\n",
    "Nosso coletor recebeu como nome *ri2020g3bot* e mais informações sobre ele podem ser entrcontradas em: https://daegonny.github.io/ri-tp1/"
   ]
  },
  {
   "cell_type": "markdown",
   "metadata": {},
   "source": [
    "## URLs sementes utilizadas\n",
    "\n",
    "Para realizar a coleta as urls de sementes utilizadas foram:"
   ]
  },
  {
   "cell_type": "code",
   "execution_count": 1,
   "metadata": {},
   "outputs": [
    {
     "name": "stderr",
     "output_type": "stream",
     "text": [
      "/Users/lucascorrea/.virtualenvs/ri-tp1/lib/python3.8/site-packages/pandas/compat/__init__.py:120: UserWarning: Could not import the lzma module. Your installed Python is incomplete. Attempting to use lzma compression will result in a RuntimeError.\n",
      "  warnings.warn(msg)\n"
     ]
    },
    {
     "data": {
      "text/html": [
       "<div>\n",
       "<style scoped>\n",
       "    .dataframe tbody tr th:only-of-type {\n",
       "        vertical-align: middle;\n",
       "    }\n",
       "\n",
       "    .dataframe tbody tr th {\n",
       "        vertical-align: top;\n",
       "    }\n",
       "\n",
       "    .dataframe thead th {\n",
       "        text-align: right;\n",
       "    }\n",
       "</style>\n",
       "<table border=\"1\" class=\"dataframe\">\n",
       "  <thead>\n",
       "    <tr style=\"text-align: right;\">\n",
       "      <th></th>\n",
       "      <th>url</th>\n",
       "    </tr>\n",
       "  </thead>\n",
       "  <tbody>\n",
       "    <tr>\n",
       "      <th>0</th>\n",
       "      <td>http://cnn.com</td>\n",
       "    </tr>\n",
       "    <tr>\n",
       "      <th>1</th>\n",
       "      <td>http://www.gq.com.au/</td>\n",
       "    </tr>\n",
       "    <tr>\n",
       "      <th>2</th>\n",
       "      <td>https://www.huffpost.com/</td>\n",
       "    </tr>\n",
       "    <tr>\n",
       "      <th>3</th>\n",
       "      <td>http://www.globo.com/</td>\n",
       "    </tr>\n",
       "    <tr>\n",
       "      <th>4</th>\n",
       "      <td>https://pt.wikipedia.org/wiki/Wikip%C3%A9dia:P...</td>\n",
       "    </tr>\n",
       "    <tr>\n",
       "      <th>5</th>\n",
       "      <td>https://globoesporte.globo.com/</td>\n",
       "    </tr>\n",
       "    <tr>\n",
       "      <th>6</th>\n",
       "      <td>https://www.espn.com.br/</td>\n",
       "    </tr>\n",
       "    <tr>\n",
       "      <th>7</th>\n",
       "      <td>https://www.foxnews.com/</td>\n",
       "    </tr>\n",
       "    <tr>\n",
       "      <th>8</th>\n",
       "      <td>https://www.bbc.com/</td>\n",
       "    </tr>\n",
       "    <tr>\n",
       "      <th>9</th>\n",
       "      <td>https://www.reddit.com/</td>\n",
       "    </tr>\n",
       "    <tr>\n",
       "      <th>10</th>\n",
       "      <td>https://abcnews.go.com/</td>\n",
       "    </tr>\n",
       "    <tr>\n",
       "      <th>11</th>\n",
       "      <td>https://fivethirtyeight.com/</td>\n",
       "    </tr>\n",
       "    <tr>\n",
       "      <th>12</th>\n",
       "      <td>https://www.nbcnews.com/</td>\n",
       "    </tr>\n",
       "  </tbody>\n",
       "</table>\n",
       "</div>"
      ],
      "text/plain": [
       "                                                  url\n",
       "0                                      http://cnn.com\n",
       "1                               http://www.gq.com.au/\n",
       "2                           https://www.huffpost.com/\n",
       "3                               http://www.globo.com/\n",
       "4   https://pt.wikipedia.org/wiki/Wikip%C3%A9dia:P...\n",
       "5                     https://globoesporte.globo.com/\n",
       "6                            https://www.espn.com.br/\n",
       "7                            https://www.foxnews.com/\n",
       "8                                https://www.bbc.com/\n",
       "9                             https://www.reddit.com/\n",
       "10                            https://abcnews.go.com/\n",
       "11                       https://fivethirtyeight.com/\n",
       "12                           https://www.nbcnews.com/"
      ]
     },
     "execution_count": 1,
     "metadata": {},
     "output_type": "execute_result"
    }
   ],
   "source": [
    "import pandas as pd\n",
    "\n",
    "pd.read_csv('crawler/seeds.txt', header=None, names=['url'])"
   ]
  },
  {
   "cell_type": "markdown",
   "metadata": {},
   "source": [
    "## Principais desafios\n",
    "\n",
    "Os principais desafios encontrados para a realização do coletor foram relacionados a otimização do tempo de processamento do mesmo e o uso dos recursos pelos processos (threads).\n",
    "\n",
    "Percebemos durante a implementação que a relação entre o tempo de espera, número de processos em paralelo e número de URLs sementes eram primordial para o desempenho do coletor que acarretou algumas decisões de implementações que serão abordadas a seguir. "
   ]
  },
  {
   "cell_type": "markdown",
   "metadata": {},
   "source": [
    "## Decisões e arquitetura utilizada\n",
    "\n",
    "Para o desenvolvimento do coletor foram implementadas algumas funcionalidades no intuito de resolver os problema comentados anteriormente, garantindo a qualidade e perfomace do coletor. As principais considerações são:\n",
    "\n",
    "### Classe Domain (Domínio)\n",
    "\n",
    "A classe domain que é responsável pela estruturação do dominios quais o coletor poderá acessar foi adicionada uma propriedade calculada que é `time_will_be_acessible` que possui a responsabilidade de armazenar o horário qual aquele domínio se tornará acessível novamente para realizar uma nova coleta.\n",
    "\n",
    "Além de algumas propriedade básicas `accessed_now`, `time_since_last_access`, `is_accessible` que calculam o momento que o domínio foi acessado, o tempo desde o último acesso e se o domínio é acessível, respectivamente.\n",
    "\n",
    "Alguns métodos built-in de classes Python (`__hash__`, `__eq__`, `__str__`, `__repr__`) foram implementadas para auxiliar nos processos de comparação, criação de dicionário e exibição do objetos\n",
    "   \n",
    "\n",
    "### Classe Scheduler (Escalonador)\n",
    "A classe Scheduler que possui a responsabilidade de orquestrar as coletas foram desenvolvidas alguns métodos principais para a execução do processo, entre eles foram:\n",
    "\n",
    "#### get_next_url\n",
    "Método para obtenção para da próxima URL, caso exista, a ser coletada. Para isso o seguinte algoritmo foi implementado.\n",
    "\n",
    "- Para cada domínio presente no coletor é verificado se o mesmo está acessível. \n",
    "    - Caso verdadeiro a URL é marcada como acessada, removida do Scheduler e retorna o método retorna URL e sua profundidade atual\n",
    "- Caso nenhuma URL seja acessível é calculada o menor tempo para o próximo dominio ficar disponível através do método `Domain.time_will_be_acessible` e deixa o processo em espera até esse tempo seja atingido.\n",
    "\n",
    "Esse processo é executado até o escalonador não possuir mais domínios a serem acessados.\n",
    "\n",
    "#### add_new_page\n",
    "Método que adiciona uma nova página ao escalonador desde que atenda aos seguintes critérios:\n",
    "- Profundidade máxima do domínio ainda não foi atingida\n",
    "- URL ainda não foi descoberta\n",
    "\n",
    "Com os critérios atingidos essa função adiciona o URL ao dicionário de domínios.\n",
    "\n",
    "\n",
    "#### has_finished_crawl\n",
    "Método que verifica se os critérios de parada do escalonador foram atingidos.\n",
    "\n",
    "\n",
    "### Classe Page Fetcher\n",
    "Classe que irá realizar as ações de coletas dos páginas. Esse classe será executada em paralelo, portanto ela irá herdar da classe Thread do Python.\n",
    "\n",
    "Os principais métodos para execução dessa classe são:\n",
    "\n",
    "#### crawl_new_url\n",
    "Realiza a coleta da nova URL vinda do metodo `Scheduler.get_next_url` e com base nela é realizado o seguinte fluxo: \n",
    "\n",
    "- Caso nenhuma URL seja retornada a coleta é encerrada.\n",
    "- Caso os critérios de parada tenham sido atingidos a coleta é encerrada\n",
    "- Caso a coleta não tenha sido encerrada a página é requisitada e checado os seguintes critérios:\n",
    " - Se a pagina permite indexação, atraves do método (`has_no_index`),  se sim a URL é armazenada (`collect`)\n",
    " - Se a página permite seguir os links, através do método (`has_no_follow`), se sim os links são descobertos e adicionados a fila do escalonador (`gather_links`).\n",
    "\n",
    "#### has_no_index\n",
    "Realiza a verificação do tag meta `noindex` na pagina HTML obitida\n",
    "\n",
    "\n",
    "#### has_no_follow\n",
    "Realiza a verificação do tag meta `nofollow` na pagina HTML obitida\n",
    "\n",
    "#### gather_links\n",
    "A partir da página HTML acessada é feito a procura por `tags a` e descoberta a URL absoluta dos mesmos e qual será a profundidade do link encontrado.\n",
    "\n",
    "A partir disso é adicionado ao escalonador o link com sua profundidade.\n",
    "\n",
    "#### collect\n",
    "O método `collect` adiciona o a URL requisitada a lista de URLs encontradas."
   ]
  },
  {
   "cell_type": "markdown",
   "metadata": {},
   "source": [
    "## Avaliação dos resultados"
   ]
  },
  {
   "cell_type": "markdown",
   "metadata": {},
   "source": [
    "### Execução do coletor"
   ]
  },
  {
   "cell_type": "code",
   "execution_count": 1,
   "metadata": {
    "scrolled": false
   },
   "outputs": [
    {
     "name": "stdout",
     "output_type": "stream",
     "text": [
      "Finished with 0:00:16.530727\n",
      "Writing file! Please wait...\n"
     ]
    },
    {
     "data": {
      "text/html": [
       "<div>\n",
       "<style scoped>\n",
       "    .dataframe tbody tr th:only-of-type {\n",
       "        vertical-align: middle;\n",
       "    }\n",
       "\n",
       "    .dataframe tbody tr th {\n",
       "        vertical-align: top;\n",
       "    }\n",
       "\n",
       "    .dataframe thead th {\n",
       "        text-align: right;\n",
       "    }\n",
       "</style>\n",
       "<table border=\"1\" class=\"dataframe\">\n",
       "  <thead>\n",
       "    <tr style=\"text-align: right;\">\n",
       "      <th></th>\n",
       "      <th>url</th>\n",
       "    </tr>\n",
       "  </thead>\n",
       "  <tbody>\n",
       "    <tr>\n",
       "      <th>0</th>\n",
       "      <td>http://cnn.com</td>\n",
       "    </tr>\n",
       "    <tr>\n",
       "      <th>1</th>\n",
       "      <td>http://www.globo.com/</td>\n",
       "    </tr>\n",
       "    <tr>\n",
       "      <th>2</th>\n",
       "      <td>https://globoesporte.globo.com/</td>\n",
       "    </tr>\n",
       "    <tr>\n",
       "      <th>3</th>\n",
       "      <td>https://pt.wikipedia.org/wiki/Wikip%C3%A9dia:P...</td>\n",
       "    </tr>\n",
       "    <tr>\n",
       "      <th>4</th>\n",
       "      <td>https://www.bbc.com/</td>\n",
       "    </tr>\n",
       "    <tr>\n",
       "      <th>5</th>\n",
       "      <td>https://www.espn.com.br/</td>\n",
       "    </tr>\n",
       "    <tr>\n",
       "      <th>6</th>\n",
       "      <td>https://fivethirtyeight.com/</td>\n",
       "    </tr>\n",
       "    <tr>\n",
       "      <th>7</th>\n",
       "      <td>https://www.reddit.com/</td>\n",
       "    </tr>\n",
       "    <tr>\n",
       "      <th>8</th>\n",
       "      <td>https://www.foxnews.com/</td>\n",
       "    </tr>\n",
       "    <tr>\n",
       "      <th>9</th>\n",
       "      <td>https://tecnoblog.net/</td>\n",
       "    </tr>\n",
       "    <tr>\n",
       "      <th>10</th>\n",
       "      <td>https://abcnews.go.com/</td>\n",
       "    </tr>\n",
       "    <tr>\n",
       "      <th>11</th>\n",
       "      <td>https://www.nbcnews.com/</td>\n",
       "    </tr>\n",
       "    <tr>\n",
       "      <th>12</th>\n",
       "      <td>https://www.blogger.com/</td>\n",
       "    </tr>\n",
       "    <tr>\n",
       "      <th>13</th>\n",
       "      <td>https://scihub.wikicn.top/</td>\n",
       "    </tr>\n",
       "    <tr>\n",
       "      <th>14</th>\n",
       "      <td>https://pt.wikihow.com/P%C3%A1gina-principal</td>\n",
       "    </tr>\n",
       "    <tr>\n",
       "      <th>15</th>\n",
       "      <td>https://wikileaks.org/</td>\n",
       "    </tr>\n",
       "    <tr>\n",
       "      <th>16</th>\n",
       "      <td>https://www.ehow.com.br/</td>\n",
       "    </tr>\n",
       "    <tr>\n",
       "      <th>17</th>\n",
       "      <td>https://twitter.com/</td>\n",
       "    </tr>\n",
       "    <tr>\n",
       "      <th>18</th>\n",
       "      <td>https://pt.wikibooks.org/wiki/Wikilivros:P%C3%...</td>\n",
       "    </tr>\n",
       "    <tr>\n",
       "      <th>19</th>\n",
       "      <td>https://super.rugby/</td>\n",
       "    </tr>\n",
       "    <tr>\n",
       "      <th>20</th>\n",
       "      <td>https://www.mfat.govt.nz/</td>\n",
       "    </tr>\n",
       "    <tr>\n",
       "      <th>21</th>\n",
       "      <td>https://waleedtech.wen.nz/</td>\n",
       "    </tr>\n",
       "    <tr>\n",
       "      <th>22</th>\n",
       "      <td>https://brasil.elpais.com/</td>\n",
       "    </tr>\n",
       "    <tr>\n",
       "      <th>23</th>\n",
       "      <td>https://www.lemonde.fr/</td>\n",
       "    </tr>\n",
       "  </tbody>\n",
       "</table>\n",
       "</div>"
      ],
      "text/plain": [
       "                                                  url\n",
       "0                                      http://cnn.com\n",
       "1                               http://www.globo.com/\n",
       "2                     https://globoesporte.globo.com/\n",
       "3   https://pt.wikipedia.org/wiki/Wikip%C3%A9dia:P...\n",
       "4                                https://www.bbc.com/\n",
       "5                            https://www.espn.com.br/\n",
       "6                        https://fivethirtyeight.com/\n",
       "7                             https://www.reddit.com/\n",
       "8                            https://www.foxnews.com/\n",
       "9                              https://tecnoblog.net/\n",
       "10                            https://abcnews.go.com/\n",
       "11                           https://www.nbcnews.com/\n",
       "12                           https://www.blogger.com/\n",
       "13                         https://scihub.wikicn.top/\n",
       "14       https://pt.wikihow.com/P%C3%A1gina-principal\n",
       "15                             https://wikileaks.org/\n",
       "16                           https://www.ehow.com.br/\n",
       "17                               https://twitter.com/\n",
       "18  https://pt.wikibooks.org/wiki/Wikilivros:P%C3%...\n",
       "19                               https://super.rugby/\n",
       "20                          https://www.mfat.govt.nz/\n",
       "21                         https://waleedtech.wen.nz/\n",
       "22                         https://brasil.elpais.com/\n",
       "23                            https://www.lemonde.fr/"
      ]
     },
     "execution_count": 1,
     "metadata": {},
     "output_type": "execute_result"
    }
   ],
   "source": [
    "from crawler.report import Report\n",
    "import pandas as pd\n",
    "\n",
    "report = Report()\n",
    "\n",
    "report.run_crawler(int_page_limit=20, int_depth_limit=6, n_threads=10)\n",
    "pd.read_csv('crawler/urls.txt', header=None, names=['url'])"
   ]
  },
  {
   "cell_type": "markdown",
   "metadata": {},
   "source": [
    "### Análise de velocidade\n",
    "\n",
    "Com o objetivo de realizar uma análise da velocidade do coletor baseado no número de threads foi realizado o seguinte teste:\n",
    "\n",
    "- Aumento do número de threads de 10 a 110, com o aumento de 20 em 20 threads\n",
    "- Lista de sementes mostrada acima\n",
    "- Limite de profundidade: 6\n",
    "- Número limite de página visitadas: 50000\n",
    "\n",
    "Com isso pode-se observar o seguinte resultado:"
   ]
  },
  {
   "cell_type": "code",
   "execution_count": 5,
   "metadata": {
    "scrolled": false
   },
   "outputs": [
    {
     "name": "stdout",
     "output_type": "stream",
     "text": [
      "Finished with 0:00:17.182130\n",
      "Finished with 0:00:08.339861\n",
      "Finished with 0:00:08.814254\n",
      "Finished with 0:00:13.984611\n",
      "Finished with 0:00:08.328439\n"
     ]
    },
    {
     "data": {
      "image/png": "[encoded data removed]",
      "text/plain": [
       "<Figure size 432x288 with 1 Axes>"
      ]
     },
     "metadata": {
      "needs_background": "light"
     },
     "output_type": "display_data"
    }
   ],
   "source": [
    "report.velocity_result(int_page_limit=10, int_depth_limit=6)"
   ]
  },
  {
   "cell_type": "markdown",
   "metadata": {},
   "source": [
    "## Considerações finais\n",
    "\n"
   ]
  }
 ],
 "metadata": {
  "kernelspec": {
   "display_name": "Python 3",
   "language": "python",
   "name": "python3"
  },
  "language_info": {
   "codemirror_mode": {
    "name": "ipython",
    "version": 3
   },
   "file_extension": ".py",
   "mimetype": "text/x-python",
   "name": "python",
   "nbconvert_exporter": "python",
   "pygments_lexer": "ipython3",
   "version": "3.8.5"
  }
 },
 "nbformat": 4,
 "nbformat_minor": 2
}
