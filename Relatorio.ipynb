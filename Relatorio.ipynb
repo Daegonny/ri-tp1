{
 "cells": [
  {
   "cell_type": "markdown",
   "metadata": {},
   "source": [
    "# Trabalho Prático: Implementação de um Coletor Web\n",
    "\n",
    "Integrantes: Guilherme Botelho\n",
    "<p>&nbsp;&nbsp;&nbsp;&nbsp;&nbsp;&nbsp;&nbsp;&nbsp;&nbsp;&nbsp;&nbsp;&nbsp;&nbsp;Ígor Chagas</p>\n",
    "<p>&nbsp;&nbsp;&nbsp;&nbsp;&nbsp;&nbsp;&nbsp;&nbsp;&nbsp;&nbsp;&nbsp;&nbsp;&nbsp;Lucas Corrêa</p>\n",
    "\n",
    "Orientador: Daniel Hasan Dalip"
   ]
  },
  {
   "cell_type": "markdown",
   "metadata": {},
   "source": [
    "## Objetivo\n",
    "\n",
    "O projeto proposto pelo professor tem como base a implementação de um coletor simples para Web, com o objetivo de estudar e aprender sua arquitetura. O coletor tem que obedecer, obrigatoriamente, os protocolos de exclusão de robôs:\n",
    "- Critérios pertencentes no robots.txt;\n",
    "- Critérios \"noindex\" e \"nofollow\" das metatags de cada html extraído;\n",
    "- Obedecer o prazo de, no mínimo, 30 segundos entre requisições em um mesmo servidor;\n",
    "\n",
    "Os parâmetros utilizados no trabalho, foram:\n",
    "- Número máximo de páginas: 50.000 páginas\n",
    "- Profundidade por domínio: 6  páginas\n",
    "- Número de threads utilizado: "
   ]
  },
  {
   "cell_type": "markdown",
   "metadata": {},
   "source": [
    "## Metodologia\n",
    "\n",
    "blá blá\n",
    "\n",
    "### Arquitetura\n",
    "\n",
    "blá blá\n",
    "\n",
    "#### Domain\n",
    "\n",
    "blá blá\n",
    "\n",
    "- def __init__(self,nam_domain,int_time_limit_between_requests):\n",
    "\n",
    "- def time_since_last_access(self):\n",
    "\n",
    "- def time_will_be_acessible(self):\n",
    "\n",
    "- def accessed_now(self):\n",
    "\n",
    "- def is_accessible(self):\n",
    "\n",
    "- def __hash__(self):\n",
    "\n",
    "- def __eq__(self, domain):\n",
    "\n",
    "- def __str__(self):\n",
    "\n",
    "- def __repr__(self):\n",
    "\n",
    "#### Scheduler\n",
    "\n",
    "blá blá\n",
    "\n",
    "- def __init__(self,str_usr_agent,int_page_limit,int_depth_limit,arr_urls_seeds):\n",
    "\n",
    "- def count_fetched_page(self):\n",
    "\n",
    "- def has_finished_crawl(self):\n",
    "\n",
    "- def can_add_page(self,obj_url,int_depth):\n",
    "\n",
    "- def add_new_page(self,obj_url,int_depth):\n",
    "\n",
    "- def get_next_url(self):\n",
    "\n",
    "- def get_robots(self, nam_domain):\n",
    "\n",
    "- def can_fetch_page(self,obj_url):\n",
    "\n",
    "- def collect_url(self, obj_url):\n",
    "\n",
    "#### PageFetcher\n",
    "\n",
    "blá blá\n",
    "\n",
    "- def __init__(self, obj_scheduler):\n",
    "\n",
    "- def request_url(self,obj_url):\n",
    "\n",
    "- def discover_links(self,obj_url,int_depth,bin_str_content):\n",
    "\n",
    "- def crawl_new_url(self):\n",
    "\n",
    "- def collect(self, obj_url):\n",
    "\n",
    "- def gather_links(self, obj_url, depth, response_content):\n",
    "\n",
    "- def has_no_index(self, response_content):\n",
    "\n",
    "- def has_no_follow(self, response_content):\n",
    "\n",
    "- def check_meta_content(self, response_content, keyword):\n",
    "\n",
    "- def run(self): \n",
    "\n",
    "### Principais desafios\n",
    "\n",
    "blá blá"
   ]
  },
  {
   "cell_type": "markdown",
   "metadata": {},
   "source": [
    "## Avaliação dos resultados"
   ]
  },
  {
   "cell_type": "code",
   "execution_count": 1,
   "metadata": {},
   "outputs": [
    {
     "name": "stderr",
     "output_type": "stream",
     "text": [
      "\r",
      "  0%|          | 0/5 [00:00<?, ?it/s]"
     ]
    },
    {
     "name": "stdout",
     "output_type": "stream",
     "text": [
      "Finished with 0:00:24.274610\n"
     ]
    },
    {
     "name": "stderr",
     "output_type": "stream",
     "text": [
      "\r",
      " 20%|██        | 1/5 [00:25<01:40, 25.24s/it]"
     ]
    },
    {
     "name": "stdout",
     "output_type": "stream",
     "text": [
      "Finished with 0:00:22.833830\n"
     ]
    },
    {
     "name": "stderr",
     "output_type": "stream",
     "text": [
      "\r",
      " 40%|████      | 2/5 [00:52<01:17, 25.76s/it]"
     ]
    },
    {
     "name": "stdout",
     "output_type": "stream",
     "text": [
      "Finished with 0:00:27.000588\n"
     ]
    },
    {
     "name": "stderr",
     "output_type": "stream",
     "text": [
      "\r",
      " 60%|██████    | 3/5 [01:37<01:03, 31.61s/it]"
     ]
    },
    {
     "name": "stdout",
     "output_type": "stream",
     "text": [
      "Finished with 0:00:27.828474\n"
     ]
    },
    {
     "name": "stderr",
     "output_type": "stream",
     "text": [
      "\r",
      " 80%|████████  | 4/5 [02:28<00:37, 37.57s/it]"
     ]
    },
    {
     "name": "stdout",
     "output_type": "stream",
     "text": [
      "Finished with 0:00:28.421180\n"
     ]
    },
    {
     "name": "stderr",
     "output_type": "stream",
     "text": [
      "100%|██████████| 5/5 [03:23<00:00, 40.63s/it]\n"
     ]
    },
    {
     "data": {
      "image/png": "[encoded data removed]",
      "text/plain": [
       "<Figure size 432x288 with 1 Axes>"
      ]
     },
     "metadata": {
      "needs_background": "light"
     },
     "output_type": "display_data"
    }
   ],
   "source": [
    "from crawler.report import Report\n",
    "\n",
    "report = Report()\n",
    "\n",
    "report.velocity_result()"
   ]
  },
  {
   "cell_type": "markdown",
   "metadata": {},
   "source": [
    "## Considerações finais\n",
    "\n"
   ]
  }
 ],
 "metadata": {
  "kernelspec": {
   "display_name": "Python 3",
   "language": "python",
   "name": "python3"
  },
  "language_info": {
   "codemirror_mode": {
    "name": "ipython",
    "version": 3
   },
   "file_extension": ".py",
   "mimetype": "text/x-python",
   "name": "python",
   "nbconvert_exporter": "python",
   "pygments_lexer": "ipython3",
   "version": "3.8.0"
  }
 },
 "nbformat": 4,
 "nbformat_minor": 2
}
